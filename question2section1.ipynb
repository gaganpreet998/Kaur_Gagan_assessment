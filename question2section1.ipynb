{
  "nbformat": 4,
  "nbformat_minor": 0,
  "metadata": {
    "colab": {
      "provenance": []
    },
    "kernelspec": {
      "name": "python3",
      "display_name": "Python 3"
    },
    "language_info": {
      "name": "python"
    }
  },
  "cells": [
    {
      "cell_type": "markdown",
      "source": [
        "Quetsion 2: PArt 1"
      ],
      "metadata": {
        "id": "IKJE_u2UlZQ5"
      }
    },
    {
      "cell_type": "code",
      "source": [
        "def calculate_average(numbers):\n",
        "    total = 0\n",
        "    for number in numbers:\n",
        "        total += number\n",
        "    average = total / len(numbers)\n",
        "    return average\n",
        "\n",
        "# Test cases\n",
        "test_data = [\n",
        "    [10, 20, 30, 40, 50],\n",
        "    [],  # Empty list\n",
        "    [0],\n",
        "    [-5, 5, -10, 10]\n",
        "]\n",
        "\n",
        "for data in test_data:\n",
        "    result = calculate_average(data)\n",
        "    print(f\"Average of {data}: {result}\")"
      ],
      "metadata": {
        "colab": {
          "base_uri": "https://localhost:8080/",
          "height": 332
        },
        "id": "-HEUHnAcj6tY",
        "outputId": "f17cfcbe-fe7a-4796-adf7-c2843aa42fc4"
      },
      "execution_count": 2,
      "outputs": [
        {
          "output_type": "stream",
          "name": "stdout",
          "text": [
            "Average of [10, 20, 30, 40, 50]: 30.0\n"
          ]
        },
        {
          "output_type": "error",
          "ename": "ZeroDivisionError",
          "evalue": "division by zero",
          "traceback": [
            "\u001b[0;31m---------------------------------------------------------------------------\u001b[0m",
            "\u001b[0;31mZeroDivisionError\u001b[0m                         Traceback (most recent call last)",
            "\u001b[0;32m<ipython-input-2-baa9a47ab1d5>\u001b[0m in \u001b[0;36m<cell line: 0>\u001b[0;34m()\u001b[0m\n\u001b[1;32m     15\u001b[0m \u001b[0;34m\u001b[0m\u001b[0m\n\u001b[1;32m     16\u001b[0m \u001b[0;32mfor\u001b[0m \u001b[0mdata\u001b[0m \u001b[0;32min\u001b[0m \u001b[0mtest_data\u001b[0m\u001b[0;34m:\u001b[0m\u001b[0;34m\u001b[0m\u001b[0;34m\u001b[0m\u001b[0m\n\u001b[0;32m---> 17\u001b[0;31m     \u001b[0mresult\u001b[0m \u001b[0;34m=\u001b[0m \u001b[0mcalculate_average\u001b[0m\u001b[0;34m(\u001b[0m\u001b[0mdata\u001b[0m\u001b[0;34m)\u001b[0m\u001b[0;34m\u001b[0m\u001b[0;34m\u001b[0m\u001b[0m\n\u001b[0m\u001b[1;32m     18\u001b[0m     \u001b[0mprint\u001b[0m\u001b[0;34m(\u001b[0m\u001b[0;34mf\"Average of {data}: {result}\"\u001b[0m\u001b[0;34m)\u001b[0m\u001b[0;34m\u001b[0m\u001b[0;34m\u001b[0m\u001b[0m\n",
            "\u001b[0;32m<ipython-input-2-baa9a47ab1d5>\u001b[0m in \u001b[0;36mcalculate_average\u001b[0;34m(numbers)\u001b[0m\n\u001b[1;32m      3\u001b[0m     \u001b[0;32mfor\u001b[0m \u001b[0mnumber\u001b[0m \u001b[0;32min\u001b[0m \u001b[0mnumbers\u001b[0m\u001b[0;34m:\u001b[0m\u001b[0;34m\u001b[0m\u001b[0;34m\u001b[0m\u001b[0m\n\u001b[1;32m      4\u001b[0m         \u001b[0mtotal\u001b[0m \u001b[0;34m+=\u001b[0m \u001b[0mnumber\u001b[0m\u001b[0;34m\u001b[0m\u001b[0;34m\u001b[0m\u001b[0m\n\u001b[0;32m----> 5\u001b[0;31m     \u001b[0maverage\u001b[0m \u001b[0;34m=\u001b[0m \u001b[0mtotal\u001b[0m \u001b[0;34m/\u001b[0m \u001b[0mlen\u001b[0m\u001b[0;34m(\u001b[0m\u001b[0mnumbers\u001b[0m\u001b[0;34m)\u001b[0m\u001b[0;34m\u001b[0m\u001b[0;34m\u001b[0m\u001b[0m\n\u001b[0m\u001b[1;32m      6\u001b[0m     \u001b[0;32mreturn\u001b[0m \u001b[0maverage\u001b[0m\u001b[0;34m\u001b[0m\u001b[0;34m\u001b[0m\u001b[0m\n\u001b[1;32m      7\u001b[0m \u001b[0;34m\u001b[0m\u001b[0m\n",
            "\u001b[0;31mZeroDivisionError\u001b[0m: division by zero"
          ]
        }
      ]
    },
    {
      "cell_type": "markdown",
      "source": [
        "Question 2 :\n",
        "Part 3:"
      ],
      "metadata": {
        "id": "ON3IZwR_jx9t"
      }
    },
    {
      "cell_type": "code",
      "execution_count": 1,
      "metadata": {
        "colab": {
          "base_uri": "https://localhost:8080/"
        },
        "id": "SwremYNKjvfw",
        "outputId": "9647be23-8b65-415a-e4b0-a9872a611d46"
      },
      "outputs": [
        {
          "output_type": "stream",
          "name": "stdout",
          "text": [
            "Average of [10, 20, 30, 40, 50]: 30.0\n",
            "Average of []: Cannot calculate average of an empty list.\n",
            "Average of [0]: 0.0\n",
            "Average of [-5, 5, -10, 10]: 0.0\n"
          ]
        }
      ],
      "source": [
        "def calculate_average(numbers):\n",
        "    if not numbers:\n",
        "        return \"Cannot calculate average of an empty list.\"\n",
        "    total = 0\n",
        "    for number in numbers:\n",
        "        total += number\n",
        "    average = total / len(numbers)\n",
        "    return average\n",
        "\n",
        "# Test cases\n",
        "test_data = [\n",
        "    [10, 20, 30, 40, 50],\n",
        "    [],  # Empty list\n",
        "    [0],\n",
        "    [-5, 5, -10, 10]\n",
        "]\n",
        "\n",
        "for data in test_data:\n",
        "    result = calculate_average(data)\n",
        "    print(f\"Average of {data}: {result}\")\n"
      ]
    },
    {
      "cell_type": "markdown",
      "source": [],
      "metadata": {
        "id": "VPDw3_iDjwqX"
      }
    }
  ]
}