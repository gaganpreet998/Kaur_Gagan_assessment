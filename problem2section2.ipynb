{
  "nbformat": 4,
  "nbformat_minor": 0,
  "metadata": {
    "colab": {
      "provenance": []
    },
    "kernelspec": {
      "name": "python3",
      "display_name": "Python 3"
    },
    "language_info": {
      "name": "python"
    }
  },
  "cells": [
    {
      "cell_type": "code",
      "execution_count": 1,
      "metadata": {
        "colab": {
          "base_uri": "https://localhost:8080/"
        },
        "id": "L3HlriGToFc-",
        "outputId": "d050fa5e-f9d1-4d25-855b-e590c10fd78e"
      },
      "outputs": [
        {
          "output_type": "stream",
          "name": "stdout",
          "text": [
            "\n",
            "What data type is '42' in Python?\n",
            "A: int\n",
            "B: str\n",
            "C: float\n",
            "D: bool\n",
            "Your answer (A/B/C/D): b\n",
            "✅ Correct!\n",
            "\n",
            "Which keyword defines a function in Python?\n",
            "A: func\n",
            "B: define\n",
            "C: def\n",
            "D: function\n",
            "Your answer (A/B/C/D): a\n",
            "❌ Incorrect. The correct answer was C.\n",
            "\n",
            "What symbol is used for comments in Python?\n",
            "A: //\n",
            "B: #\n",
            "C: /* */\n",
            "D: --\n",
            "Your answer (A/B/C/D): #\n",
            "Invalid choice. Please choose A, B, C, or D.\n",
            "Your answer (A/B/C/D): b\n",
            "✅ Correct!\n",
            "\n",
            "Final Score: 2/3 (66.7%)\n"
          ]
        }
      ],
      "source": [
        "quiz = [\n",
        "    {\n",
        "        \"question\": \"What data type is '42' in Python?\",\n",
        "        \"options\": {\"A\": \"int\", \"B\": \"str\", \"C\": \"float\", \"D\": \"bool\"},\n",
        "        \"correct\": \"B\"\n",
        "    },\n",
        "    {\n",
        "        \"question\": \"Which keyword defines a function in Python?\",\n",
        "        \"options\": {\"A\": \"func\", \"B\": \"define\", \"C\": \"def\", \"D\": \"function\"},\n",
        "        \"correct\": \"C\"\n",
        "    },\n",
        "    {\n",
        "        \"question\": \"What symbol is used for comments in Python?\",\n",
        "        \"options\": {\"A\": \"//\", \"B\": \"#\", \"C\": \"/* */\", \"D\": \"--\"},\n",
        "        \"correct\": \"B\"\n",
        "    }\n",
        "]\n",
        "\n",
        "score = 0\n",
        "\n",
        "for q in quiz:\n",
        "    print(\"\\n\" + q[\"question\"])\n",
        "    for key, value in q[\"options\"].items():\n",
        "        print(f\"{key}: {value}\")\n",
        "\n",
        "    while True:\n",
        "        answer = input(\"Your answer (A/B/C/D): \").strip().upper()\n",
        "        if answer in q[\"options\"]:\n",
        "            break\n",
        "        print(\"Invalid choice. Please choose A, B, C, or D.\")\n",
        "\n",
        "    if answer == q[\"correct\"]:\n",
        "        print(\"✅ Correct!\")\n",
        "        score += 1\n",
        "    else:\n",
        "        print(f\"❌ Incorrect. The correct answer was {q['correct']}.\")\n",
        "\n",
        "percentage = (score / len(quiz)) * 100\n",
        "print(f\"\\nFinal Score: {score}/{len(quiz)} ({percentage:.1f}%)\")\n"
      ]
    },
    {
      "cell_type": "code",
      "source": [],
      "metadata": {
        "id": "WGYmbrbho4pm"
      },
      "execution_count": null,
      "outputs": []
    }
  ]
}