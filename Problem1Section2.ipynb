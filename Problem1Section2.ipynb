{
  "nbformat": 4,
  "nbformat_minor": 0,
  "metadata": {
    "colab": {
      "provenance": []
    },
    "kernelspec": {
      "name": "python3",
      "display_name": "Python 3"
    },
    "language_info": {
      "name": "python"
    }
  },
  "cells": [
    {
      "cell_type": "code",
      "execution_count": 3,
      "metadata": {
        "colab": {
          "base_uri": "https://localhost:8080/"
        },
        "id": "z_tj2EoYnNjJ",
        "outputId": "0ec45f75-a39b-4e9a-f0de-d9e8f9aa5772"
      },
      "outputs": [
        {
          "output_type": "stream",
          "name": "stdout",
          "text": [
            "Enter temperature value: 100\n",
            "Enter original unit (C/F): F\n",
            "Enter target unit (C/F): C\n",
            "100.00°F is 37.78°C\n"
          ]
        }
      ],
      "source": [
        "# Temperature converter with error handling\n",
        "\n",
        "def convert_temperature():\n",
        "    try:\n",
        "        temp = float(input(\"Enter temperature value: \"))\n",
        "    except ValueError:\n",
        "        print(\"Invalid temperature! Please enter a numeric value.\")\n",
        "        return\n",
        "\n",
        "    original_unit = input(\"Enter original unit (C/F): \").strip().upper()\n",
        "    if original_unit not in [\"C\", \"F\"]:\n",
        "        print(\"Invalid original unit. Please enter 'C' or 'F'.\")\n",
        "        return\n",
        "\n",
        "    target_unit = input(\"Enter target unit (C/F): \").strip().upper()\n",
        "    if target_unit not in [\"C\", \"F\"]:\n",
        "        print(\"Invalid target unit. Please enter 'C' or 'F'.\")\n",
        "        return\n",
        "\n",
        "    if original_unit == target_unit:\n",
        "        print(\"Original and target units are the same. No conversion needed.\")\n",
        "        return\n",
        "\n",
        "    if original_unit == \"C\" and target_unit == \"F\":\n",
        "        converted = temp * 9/5 + 32\n",
        "        print(f\"{temp:.2f}°C is {converted:.2f}°F\")\n",
        "    elif original_unit == \"F\" and target_unit == \"C\":\n",
        "        converted = (temp - 32) * 5/9\n",
        "        print(f\"{temp:.2f}°F is {converted:.2f}°C\")\n",
        "\n",
        "convert_temperature()\n"
      ]
    },
    {
      "cell_type": "code",
      "source": [
        "# Temperature converter with error handling\n",
        "\n",
        "def convert_temperature():\n",
        "    try:\n",
        "        temp = float(input(\"Enter temperature value: \"))\n",
        "    except ValueError:\n",
        "        print(\"Invalid temperature! Please enter a numeric value.\")\n",
        "        return\n",
        "\n",
        "    original_unit = input(\"Enter original unit (C/F): \").strip().upper()\n",
        "    if original_unit not in [\"C\", \"F\"]:\n",
        "        print(\"Invalid original unit. Please enter 'C' or 'F'.\")\n",
        "        return\n",
        "\n",
        "    target_unit = input(\"Enter target unit (C/F): \").strip().upper()\n",
        "    if target_unit not in [\"C\", \"F\"]:\n",
        "        print(\"Invalid target unit. Please enter 'C' or 'F'.\")\n",
        "        return\n",
        "\n",
        "    if original_unit == target_unit:\n",
        "        print(\"Original and target units are the same. No conversion needed.\")\n",
        "        return\n",
        "\n",
        "    if original_unit == \"C\" and target_unit == \"F\":\n",
        "        converted = temp * 9/5 + 32\n",
        "        print(f\"{temp:.2f}°C is {converted:.2f}°F\")\n",
        "    elif original_unit == \"F\" and target_unit == \"C\":\n",
        "        converted = (temp - 32) * 5/9\n",
        "        print(f\"{temp:.2f}°F is {converted:.2f}°C\")\n",
        "\n",
        "convert_temperature()\n"
      ],
      "metadata": {
        "colab": {
          "base_uri": "https://localhost:8080/"
        },
        "id": "yyO3NAECng_3",
        "outputId": "785a513c-452c-4c93-92db-bb630700aff5"
      },
      "execution_count": 5,
      "outputs": [
        {
          "output_type": "stream",
          "name": "stdout",
          "text": [
            "Enter temperature value: 100c\n",
            "Invalid temperature! Please enter a numeric value.\n"
          ]
        }
      ]
    }
  ]
}